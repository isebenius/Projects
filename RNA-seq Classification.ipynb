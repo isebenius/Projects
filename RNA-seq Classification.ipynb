{
 "cells": [
  {
   "cell_type": "code",
   "execution_count": 1,
   "metadata": {},
   "outputs": [],
   "source": [
    "import numpy as np\n",
    "import matplotlib.pyplot as plt\n",
    "import math"
   ]
  },
  {
   "cell_type": "code",
   "execution_count": 2,
   "metadata": {},
   "outputs": [],
   "source": [
    "#Get sample pathogenic RNA-seq data\n",
    "!wget -o - \"http://mcb112.org/w04/pathogen.fa\" > \"output.txt\""
   ]
  },
  {
   "cell_type": "code",
   "execution_count": 3,
   "metadata": {},
   "outputs": [],
   "source": [
    "#Get sample non-pathogenic (fictional sandmouse) RNA-seq data\n",
    "!wget -o - \"http://mcb112.org/w04/sandmouse.fa\" > \"output.txt\""
   ]
  },
  {
   "cell_type": "code",
   "execution_count": 4,
   "metadata": {},
   "outputs": [],
   "source": [
    "!wget -o - \"http://mcb112.org/w04/moriarty-neg.fa\" > \"output.txt\""
   ]
  },
  {
   "cell_type": "markdown",
   "metadata": {},
   "source": [
    "In this project, I seek to differentiate between sample RNA seq data from a fictional 'sandmouse' which contains genomic regions corresponding to pathogenic sequences, and RNA seq data that corresponds to a healthy sandmouse.\n",
    "\n",
    "In order to do so, I implement a second-order markov model from first principles to find the maximally likely classification of RNA-seq reads as pathogenic or healthy. \n",
    "\n",
    "Finally, I explore how effective my model would be in the field by doing an analysis of different thresholds to find how my model would hold up in the field according to differing false discovery rates.\n"
   ]
  },
  {
   "cell_type": "code",
   "execution_count": 5,
   "metadata": {
    "scrolled": true
   },
   "outputs": [],
   "source": [
    "with open('pathogen.fa', 'r') as f:\n",
    "    pathogen = []\n",
    "    for line in f:\n",
    "        if line[0] != \">\":\n",
    "            pathogen.append(line)"
   ]
  },
  {
   "cell_type": "code",
   "execution_count": 6,
   "metadata": {
    "scrolled": true
   },
   "outputs": [],
   "source": [
    "with open('sandmouse.fa', 'r') as f:\n",
    "    sandmouse = []\n",
    "    for line in f:\n",
    "        if line[0] != \">\":\n",
    "            sandmouse.append(line)"
   ]
  },
  {
   "cell_type": "code",
   "execution_count": 7,
   "metadata": {},
   "outputs": [],
   "source": [
    "with open('moriarty-neg.fa', 'r') as f:\n",
    "    random = []\n",
    "    for line in f:\n",
    "        if line[0] != \">\":\n",
    "            random.append(line)"
   ]
  },
  {
   "cell_type": "code",
   "execution_count": 8,
   "metadata": {},
   "outputs": [],
   "source": [
    "#stores single, double, and triple nucleotide combinations as keys in dict\n",
    "bases = ['A', 'C', 'G', 'T']\n",
    "keys = []\n",
    "for base in bases:\n",
    "    keys.append(base)\n",
    "    temp1 = base\n",
    "    for base1 in bases:\n",
    "        keys.append(temp1+base1)\n",
    "        temp2 = temp1 + base1\n",
    "        for base2 in bases:\n",
    "            keys.append(temp2+base2)\n",
    "pathogen_tallies = dict.fromkeys(keys, 0)\n",
    "sandmouse_tallies = dict.fromkeys(keys, 0)"
   ]
  },
  {
   "cell_type": "code",
   "execution_count": 9,
   "metadata": {
    "scrolled": true
   },
   "outputs": [],
   "source": [
    "#Tallies the total each single nucleotide, double nucleotide, and triple nucleotide combinations found in the pathogen sequences. \n",
    "#For this training stage, the first half of the data sets is used (testing done using the second half).\n",
    "with open('pathogen.fa', 'r') as f: \n",
    "    counter = 0\n",
    "    for line in f:\n",
    "        counter += 1\n",
    "    first_half=counter/2\n",
    "f.close()\n",
    "with open('pathogen.fa', 'r') as f:\n",
    "    k = 0\n",
    "    for line in f:\n",
    "        k += 1\n",
    "        if k >= first_half:\n",
    "            break\n",
    "        if line[0] == \">\":\n",
    "            continue\n",
    "        for i in range(len(line)-1): # take care of the \\n symbol at the end of each line\n",
    "            pathogen_tallies[line[i]] += 1\n",
    "            if i < (len(line)-2): #store the tallies of two-base pair combinations \n",
    "                double = line[i] + line[i+1]\n",
    "                pathogen_tallies[double] +=1\n",
    "            if i < (len(line)-3): #store the tallies of three-base combinations\n",
    "                triple = line[i] + line[i+1] + line[i+2]\n",
    "                pathogen_tallies[triple] += 1"
   ]
  },
  {
   "cell_type": "code",
   "execution_count": 10,
   "metadata": {
    "scrolled": true
   },
   "outputs": [],
   "source": [
    "#Tallies the total each single nucleotide, double nucleotide, and triple nucleotide combinations \n",
    "#found in the non-pathogen (sandmouse) sequences.\n",
    "with open('sandmouse.fa', 'r') as f:\n",
    "    m = 0\n",
    "    for line in f:\n",
    "        m += 1\n",
    "        if m >= first_half:\n",
    "            break\n",
    "        if line[0] == \">\":\n",
    "            continue\n",
    "        for i in range(len(line)-1):\n",
    "            sandmouse_tallies[line[i]] += 1\n",
    "            if i < (len(line)-2):\n",
    "                double = line[i] + line[i+1]\n",
    "                sandmouse_tallies[double] +=1\n",
    "            if i < (len(line)-3):\n",
    "                triple = line[i] + line[i+1] + line[i+2]\n",
    "                sandmouse_tallies[triple] += 1"
   ]
  },
  {
   "cell_type": "markdown",
   "metadata": {},
   "source": [
    "Here, I find the probability of finding each of the single base, two-base, and three-base combinations in the pathogen sequences, and then again in the non-pathogen (sandmouse) sequences. In the case of two-base combinations, I find the probability of finding each two-base combination given the presence of a first base, and for the three base combinations, I find the probability of finding each combination given the presence of two initial bases. In this way, the probabilities of each combination with given starting bases add to 1."
   ]
  },
  {
   "cell_type": "code",
   "execution_count": 11,
   "metadata": {
    "scrolled": false
   },
   "outputs": [],
   "source": [
    "first_sum = 0\n",
    "pathogen_probs = dict.fromkeys(keys, 0)\n",
    "sandmouse_probs = dict.fromkeys(keys, 0)\n",
    "\n",
    "for key in pathogen_tallies:\n",
    "    if len(key) == 1:\n",
    "        first_sum += pathogen_tallies[key]\n",
    "for base in bases:\n",
    "    pathogen_probs[base] = pathogen_tallies[base]/first_sum #store probability of each of the four bases\n",
    "    for base1 in bases:\n",
    "        second_sum = 0\n",
    "        for key2 in pathogen_tallies: #calculate the sum of two-position base combinations starting with same first base\n",
    "            if (len(key2) == 2) & (key2.startswith(base)):\n",
    "                second_sum += pathogen_tallies[key2]\n",
    "        pathogen_probs[base+base1] = pathogen_tallies[base+base1]/second_sum #store probability of the combination base-base1\n",
    "        temp = base + base1\n",
    "        for base2 in bases:\n",
    "            third_sum = 0\n",
    "            for key3 in pathogen_tallies: #calculate the sum of the second position ones\n",
    "                if (len(key3) == 3) & (key3.startswith(temp)): #find keys corresponding to the two prior bases\n",
    "                    third_sum += pathogen_tallies[key3]\n",
    "            pathogen_probs[temp+base2] = pathogen_tallies[temp+base2]/third_sum #store probability of base-base1-base2"
   ]
  },
  {
   "cell_type": "code",
   "execution_count": 12,
   "metadata": {
    "scrolled": true
   },
   "outputs": [],
   "source": [
    "first_sum = 0\n",
    "for key in sandmouse_tallies:\n",
    "    if len(key) == 1:\n",
    "        first_sum += sandmouse_tallies[key]\n",
    "for base in bases:\n",
    "    sandmouse_probs[base] = sandmouse_tallies[base]/first_sum #store probability of each of the four bases\n",
    "    for base1 in bases:\n",
    "        second_sum = 0\n",
    "        for key in sandmouse_tallies: #calculate the sum of two-position base combinations starting with same first base\n",
    "            if (len(key) == 2) & (key.startswith(base)):\n",
    "                second_sum += sandmouse_tallies[key]\n",
    "        sandmouse_probs[base + base1] = sandmouse_tallies[base+base1]/second_sum #store probability of the combination base-base1\n",
    "        temp = base + base1\n",
    "        for base2 in bases:\n",
    "            third_sum = 0\n",
    "            for key in sandmouse_tallies: #calculate the sum of the second position ones\n",
    "                if (len(key) == 3) & (key.startswith(temp)): #find keys corresponding to the two prior bases\n",
    "                    third_sum += sandmouse_tallies[key]\n",
    "            sandmouse_probs[temp+base2] = sandmouse_tallies[temp+base2]/third_sum #store probability of base-base1-base2"
   ]
  },
  {
   "cell_type": "markdown",
   "metadata": {},
   "source": [
    "Next, I store the log of the probabilities for both sandmouse and pathogen sequences that I calculated."
   ]
  },
  {
   "cell_type": "code",
   "execution_count": 13,
   "metadata": {},
   "outputs": [],
   "source": [
    "pathogen_logs = dict.fromkeys(keys, 0)\n",
    "sandmouse_logs = dict.fromkeys(keys, 0)\n",
    "\n",
    "for key in pathogen_probs:\n",
    "    pathogen_logs[key] = np.log10(pathogen_probs[key])\n",
    "    sandmouse_logs[key] = np.log10(sandmouse_probs[key])"
   ]
  },
  {
   "cell_type": "markdown",
   "metadata": {},
   "source": [
    "Next, I generate my log odds score for the sandmouse data using a second order Markov model. For this test, I calculate the log odds score of the non-pathogenic (sandmouse) data given the pathogen probabilities over the sandmouse probabilities. Given this, we expect the values of the log odds score to be negative here because it should be more likely to find this data given our sandmouse probabilities."
   ]
  },
  {
   "cell_type": "code",
   "execution_count": 14,
   "metadata": {},
   "outputs": [],
   "source": [
    "with open('sandmouse.fa', 'r') as f:\n",
    "    m = 0\n",
    "    sandmouse_test = []\n",
    "    for line in f:\n",
    "        p_path = 0\n",
    "        p_sand = 0\n",
    "        m += 1\n",
    "        if m < first_half:\n",
    "            continue\n",
    "        if line[0] == \">\":\n",
    "            continue\n",
    "        p_path = pathogen_logs[line[0]+line[1]]\n",
    "        p_sand = sandmouse_logs[line[0]+line[1]]\n",
    "        for i in range(2, len(line)-1):\n",
    "            p_path = p_path + pathogen_logs[line[i-2]+line[i-1]+line[i]]\n",
    "            p_sand = p_sand + sandmouse_logs[line[i-2]+line[i-1]+line[i]]\n",
    "        sandmouse_test.append(p_path-p_sand)\n",
    "    f.close()"
   ]
  },
  {
   "cell_type": "markdown",
   "metadata": {},
   "source": [
    "We can check to make sure the sandmouse_test values are generally negative by looking at the first few values."
   ]
  },
  {
   "cell_type": "code",
   "execution_count": 15,
   "metadata": {
    "scrolled": true
   },
   "outputs": [
    {
     "name": "stdout",
     "output_type": "stream",
     "text": [
      "[-4.057431145249836, -0.20763750333404118, -0.3834628274126999, -1.7926098840404165, -0.7686031676627181, -0.5598811542548248, -2.3006084152212907, -0.4958445977585768, -1.915822717793617, -1.8233173042268334]\n"
     ]
    }
   ],
   "source": [
    "print(sandmouse_test[0:10])"
   ]
  },
  {
   "cell_type": "markdown",
   "metadata": {},
   "source": [
    "Now, I repeat the process of calculating log odds scores for the pathogen data. Again, I calculate the log odds score of the data given the pathogen probabilities over the sandmouse probabilities. Given this, we expect the values of the log odds to be postitive here because it should be more likely to find this data given our pathogen probabilities."
   ]
  },
  {
   "cell_type": "code",
   "execution_count": 16,
   "metadata": {},
   "outputs": [],
   "source": [
    "with open('pathogen.fa', 'r') as g:\n",
    "    m = 0\n",
    "    pathogen_test = []\n",
    "    for line in g:\n",
    "        m += 1\n",
    "        if m < first_half:\n",
    "            continue\n",
    "        if line[0] == \">\":\n",
    "            continue\n",
    "        p_path = pathogen_logs[line[0]+line[1]]\n",
    "        p_sand = sandmouse_logs[line[0]+line[1]]\n",
    "        for i in range(2, len(line)-1):\n",
    "            p_path = p_path + pathogen_logs[line[i-2]+line[i-1]+line[i]]\n",
    "            p_sand = p_sand + sandmouse_logs[line[i-2]+line[i-1]+line[i]]\n",
    "        pathogen_test.append(p_path-p_sand)\n",
    "    g.close()"
   ]
  },
  {
   "cell_type": "markdown",
   "metadata": {},
   "source": [
    "We can check to make sure the pathogen_test values are generally positive by looking at the first few values."
   ]
  },
  {
   "cell_type": "code",
   "execution_count": 17,
   "metadata": {},
   "outputs": [
    {
     "name": "stdout",
     "output_type": "stream",
     "text": [
      "[1.9775199163632635, 1.5386781456810894, 1.2151706298332812, 2.015097172845344, 1.3884625395552206, 2.4263717332294306, -1.2803472852007474, 4.5578594664179235, 2.0519705253487217, 0.23978280429422227]\n"
     ]
    }
   ],
   "source": [
    "print(pathogen_test[0:10])"
   ]
  },
  {
   "cell_type": "markdown",
   "metadata": {},
   "source": [
    "Having calculated the log odds scores for the two sequence sets, I can now plot them in a histogram. If my model is sucessful in distinguishing sequences from pathogen and non-pathogen (sandmouse), there will be two clearly separate distributions, with minimal overlap."
   ]
  },
  {
   "cell_type": "code",
   "execution_count": 18,
   "metadata": {
    "scrolled": true
   },
   "outputs": [
    {
     "data": {
      "image/png": "[encoded data removed]",
      "text/plain": [
       "<Figure size 432x288 with 1 Axes>"
      ]
     },
     "metadata": {},
     "output_type": "display_data"
    }
   ],
   "source": [
    "fig2 = plt.subplots(1,1)\n",
    "fig_bins2 = np.linspace(-15, 15, 100)\n",
    "pathogen = plt.hist(pathogen_test, bins = fig_bins2, alpha=0.7, label='pathogen')\n",
    "sandmouse = plt.hist(sandmouse_test, bins = fig_bins2, alpha=0.7, label = 'sandmouse')\n",
    "plt.ylabel('Frequency')\n",
    "plt.xlabel('Log odds score')\n",
    "plt.legend(loc='upper right')\n",
    "plt.title('LLR')\n",
    "plt.show()"
   ]
  },
  {
   "cell_type": "markdown",
   "metadata": {},
   "source": [
    "The histogram above shows that indeed, the log odds scores generated using our second order Markov model with our sequence data from the two sources can fairly well distinguish between pathogen and sandmouse. In order to formalize how well we can distinguish between the two, and in order to pinpoint the ideal threshold value we should utilize to achieve our desired sensitivity, I generate a ROC plot below showing sensitivity against the false positive rate."
   ]
  },
  {
   "cell_type": "code",
   "execution_count": 19,
   "metadata": {},
   "outputs": [
    {
     "data": {
      "image/png": "[encoded data removed]",
      "text/plain": [
       "<Figure size 432x288 with 1 Axes>"
      ]
     },
     "metadata": {},
     "output_type": "display_data"
    }
   ],
   "source": [
    "thresholds = np.linspace(min(sandmouse_test+pathogen_test), max(sandmouse_test+pathogen_test), 500)\n",
    "tp_rates1 = []\n",
    "fp_rates1 = []\n",
    "\n",
    "tp_plus_fn1 = len(pathogen_test)\n",
    "fp_plus_tn1 = len(sandmouse_test)\n",
    "threshold_found = True\n",
    "\n",
    "for threshold in thresholds:\n",
    "    tp = 0\n",
    "    for i in range(len(pathogen_test)):\n",
    "        if pathogen_test[i] > threshold:\n",
    "            tp += 1\n",
    "    tp_rates1.append(tp/tp_plus_fn1)\n",
    "    fp = 0\n",
    "    for k in range(len(sandmouse_test)):\n",
    "        if sandmouse_test[k] > threshold:\n",
    "            fp += 1\n",
    "    fp_rates1.append(fp/fp_plus_tn1)\n",
    "    if (tp/tp_plus_fn1 < 0.9) & (threshold_found == True): #stores the threshold value at which we find 90% sensitivity\n",
    "        desired_threshold = threshold\n",
    "        fpr = fp/fp_plus_tn1\n",
    "        threshold_found = False\n",
    "        \n",
    "plt.plot(fp_rates1, tp_rates1)\n",
    "plt.xlabel('False positive rate')\n",
    "plt.ylabel('True positive rate')\n",
    "plt.xlim(0,1)\n",
    "plt.ylim(0,1)\n",
    "plt.title('ROC plot')\n",
    "plt.show()"
   ]
  },
  {
   "cell_type": "markdown",
   "metadata": {},
   "source": [
    "This ROC plot shows that for a very low false positive rate, we can achieve a high true positive rate. This indicates that our second-order Markov model seems generally effective in separating between pathogen and sandmouse sequence sets. However, in order to more thoroughly understand how our model would perform in the field, I explore how threshold values would correspond to specificity rates and FDR."
   ]
  },
  {
   "cell_type": "code",
   "execution_count": 20,
   "metadata": {},
   "outputs": [
    {
     "name": "stdout",
     "output_type": "stream",
     "text": [
      "The threshold value that would give us 90 percent specificity is 0.20\n"
     ]
    }
   ],
   "source": [
    "print('The threshold value that would give us 90 percent specificity is %.2f' %(desired_threshold))"
   ]
  },
  {
   "cell_type": "code",
   "execution_count": 21,
   "metadata": {},
   "outputs": [
    {
     "name": "stdout",
     "output_type": "stream",
     "text": [
      "The false positive rate at this threshold value is 0.0478, or 4.78 percent\n"
     ]
    }
   ],
   "source": [
    "print('The false positive rate at this threshold value is %.4f, or %.2f percent' %(fpr, fpr*100))"
   ]
  },
  {
   "cell_type": "markdown",
   "metadata": {},
   "source": [
    "In order to find these values, I simply stored the values of the threshold corresponding to the desired specificity and resulting false positive rate during the ROC plot generation step. As such, it may be a good idea to write a short amount of code to check that these values are indeed correct. To do so, we can iterate through the results of our tests, and do a simple calculation to see the proportion of pathogen_test and sandmouse_test that are above the threshold rate we calculated.  "
   ]
  },
  {
   "cell_type": "code",
   "execution_count": 22,
   "metadata": {
    "scrolled": true
   },
   "outputs": [
    {
     "name": "stdout",
     "output_type": "stream",
     "text": [
      "Our double-checked values for sensitivity and false-positive rate at this threshold are 0.9 and 0.0478.\n"
     ]
    }
   ],
   "source": [
    "path_counter = 0\n",
    "sand_counter = 0\n",
    "\n",
    "for i in range(len(pathogen_test)):\n",
    "    if pathogen_test[i] > desired_threshold:\n",
    "        path_counter += 1\n",
    "    if sandmouse_test[i] > desired_threshold:\n",
    "        sand_counter += 1\n",
    "\n",
    "check_sens = path_counter/len(pathogen_test)\n",
    "check_fpr = sand_counter/len(sandmouse_test)\n",
    "\n",
    "print(\"Our double-checked values for sensitivity and false-positive rate at this threshold are %.1f and %.4f.\"%(check_sens, check_fpr))"
   ]
  },
  {
   "cell_type": "markdown",
   "metadata": {},
   "source": [
    "Looks like our threshold was correct, as using it we were able to reproduce our sensitivity and fpr values. "
   ]
  },
  {
   "cell_type": "markdown",
   "metadata": {},
   "source": [
    "On first glance, having a false positive rate of 4.78% seems quite good. After all, this means that about 95% of negatives are correctly classified! However, when applied in the field, having a specificity of about 95% (FPR of 4.78%) would actually be quite problematic. The reason is that, since the vast majority of reads (in our case, 99%) are sand mouse reads, even if we label 5% of them as pathogen, this number will dwarf the number of true positives from the 1% of actual pathogen reads we get. In order to formalize this intuition, we can simulate the calculation of the FDR, which would show us the number of false positives divided by all positives."
   ]
  },
  {
   "cell_type": "code",
   "execution_count": 23,
   "metadata": {},
   "outputs": [
    {
     "name": "stdout",
     "output_type": "stream",
     "text": [
      "The false discovery rate using our given sensitivity and false positive rate would be 84.02 percent\n"
     ]
    }
   ],
   "source": [
    "#FDR simulated calculation:\n",
    "reads = 100000\n",
    "preads = reads*0.01\n",
    "sreads = reads*0.99\n",
    "true_pos = 0.9*preads\n",
    "false_pos = fpr*sreads\n",
    "fdr = false_pos/(true_pos + false_pos)\n",
    "print('The false discovery rate using our given sensitivity and false positive rate would be %.2f percent' % (fdr*100))"
   ]
  },
  {
   "cell_type": "markdown",
   "metadata": {},
   "source": [
    "This means that, of all of the reads we detect as 'pathogen', about 84% of them will actually be sandmouse! As we can see, this actually wouldn't be a very effective way of detecting pathogen reads. We can confirm our results by seeing how this would actually play out if we ran our Markov model on our data again, but this time using a ratio of 99 mouse sequences to 1 pathogen sequence. In order to do this, I randomly sample 1% of the log odds scores from the pathogen test data and 99% of the log odds scores from the sandmouse data. Then, I plot a histogram in the same way as done above. Using the same threshold, we should see roughly the same sensitivity and specificity, and moreover should see an FDR of 84% in our simulation."
   ]
  },
  {
   "cell_type": "code",
   "execution_count": 24,
   "metadata": {},
   "outputs": [],
   "source": [
    "pathogen_simulation = np.random.choice(pathogen_test, int(math.floor(len(pathogen_test)/100)))\n",
    "sandmouse_simulation = np.random.choice(sandmouse_test, 99*int(math.floor(len(sandmouse_test)/100)))"
   ]
  },
  {
   "cell_type": "code",
   "execution_count": 25,
   "metadata": {},
   "outputs": [
    {
     "data": {
      "image/png": "[encoded data removed]",
      "text/plain": [
       "<Figure size 432x288 with 1 Axes>"
      ]
     },
     "metadata": {},
     "output_type": "display_data"
    }
   ],
   "source": [
    "fig3 = plt.subplots(1,1)\n",
    "fig_bins3 = np.linspace(-15, 15, 100)\n",
    "pathogen = plt.hist(pathogen_simulation, bins = fig_bins3, alpha=0.7, label='pathogen')\n",
    "sandmouse = plt.hist(sandmouse_simulation, bins = fig_bins3, alpha=0.7, label = 'sandmouse')\n",
    "plt.ylabel('Frequency')\n",
    "plt.xlabel('Log odds score')\n",
    "plt.legend(loc='upper right')\n",
    "plt.title('LLR')\n",
    "plt.show()"
   ]
  },
  {
   "cell_type": "markdown",
   "metadata": {},
   "source": [
    "As we can see, even though there is still some perceptible difference between where the data  from the pathogen and the sandmouse generally fall, because the sandmouse is overall sampled so much more than the pathogen, we can visually see that there is a significant amount of orange covering blue, implying that there will be a high number of false positivies for every true positive. We can formalize this initial intuition by calculating the FDR. "
   ]
  },
  {
   "cell_type": "code",
   "execution_count": 26,
   "metadata": {},
   "outputs": [
    {
     "name": "stdout",
     "output_type": "stream",
     "text": [
      "The values for sensitivity and false positive rate at our calculated threshold are 0.9 and 0.0434.\n"
     ]
    }
   ],
   "source": [
    "path_counter = 0\n",
    "sand_counter = 0\n",
    "for i in range(len(pathogen_simulation)):\n",
    "    if pathogen_simulation[i] > desired_threshold:\n",
    "        path_counter += 1\n",
    "for k in range(len(sandmouse_simulation)):\n",
    "    if sandmouse_simulation[k] > desired_threshold:\n",
    "        sand_counter += 1\n",
    "sim_sens = path_counter/len(pathogen_simulation)\n",
    "sim_fpr = sand_counter/len(sandmouse_simulation)\n",
    "\n",
    "print(\"The values for sensitivity and false positive rate at our calculated threshold are %.1f and %.4f.\" %(sim_sens, sim_fpr))\n"
   ]
  },
  {
   "cell_type": "markdown",
   "metadata": {},
   "source": [
    "As we expected, our sensitivity and specificity values are roughly the same as they were using when we ran our initial test. (These values will change slightly given that they are based on a random sampling of the log odds scores, but in general will hover around 0.9 and 0.0478). Now we can check to see if indeed the FDR is around 84%, as expected."
   ]
  },
  {
   "cell_type": "code",
   "execution_count": 27,
   "metadata": {},
   "outputs": [
    {
     "name": "stdout",
     "output_type": "stream",
     "text": [
      "The false discovery rate is 82.7 percent\n"
     ]
    }
   ],
   "source": [
    "fdr_sim = sand_counter/(path_counter+sand_counter)\n",
    "print(\"The false discovery rate is %.1f percent\"% (fdr_sim*100))"
   ]
  },
  {
   "cell_type": "markdown",
   "metadata": {},
   "source": [
    "This shows that our initial calculations were correct. In this simulated experiment, we confirm our initial calculation that the FDR would be unacceptably high in the field given the proportions of pathogen to sandmouse DNA found in nature. Thus, we would need to make adjustments to our method in order to increase our specificity, leading to a decrease in the FDR and making the results we label 'pathogen' more trustworthy. One way we could do this is lowering the desired sensitivity. If the lab does need a 90% sensitivity, this may be not be a valid option; however, it still is worth checking to see what effect lowering the needed sensitivity by even a small amount would have on our threshold and FPR. Below, I calculate what our values would come out to be with a desired senstivity of 80%. "
   ]
  },
  {
   "cell_type": "code",
   "execution_count": 28,
   "metadata": {
    "scrolled": true
   },
   "outputs": [
    {
     "name": "stdout",
     "output_type": "stream",
     "text": [
      "If we lower our bar for sensitivity to 80 percent, the threshold we would need is 1.05\n"
     ]
    }
   ],
   "source": [
    "newlist = list(sandmouse_simulation)+list(pathogen_simulation)\n",
    "thresholds = np.linspace(min(newlist), max(newlist), 500)\n",
    "\n",
    "tp_plus_fn2 = len(pathogen_simulation)\n",
    "fp_plus_tn2 = len(sandmouse_simulation)\n",
    "\n",
    "threshold_found = True\n",
    "for threshold in thresholds:\n",
    "    tp = 0\n",
    "    for i in range(len(pathogen_simulation)):\n",
    "        if pathogen_simulation[i] > threshold:\n",
    "            tp += 1\n",
    "    fp = 0\n",
    "    for k in range(len(sandmouse_simulation)):\n",
    "        if sandmouse_simulation[k] > threshold:\n",
    "            fp += 1\n",
    "    if (tp/tp_plus_fn2 < 0.8) & (threshold_found == True):\n",
    "        desired_threshold1 = threshold\n",
    "        fpr = fp/fp_plus_tn2\n",
    "        threshold_found = False\n",
    "print('If we lower our bar for sensitivity to 80 percent, the threshold we would need is %.2f'%(desired_threshold1))"
   ]
  },
  {
   "cell_type": "markdown",
   "metadata": {},
   "source": [
    "With this new threshold, let's confirm that our sensitivity is at 80%, and calculate what the FPR and FDR would be."
   ]
  },
  {
   "cell_type": "code",
   "execution_count": 29,
   "metadata": {},
   "outputs": [
    {
     "name": "stdout",
     "output_type": "stream",
     "text": [
      "The values for sensitivity and false positive rate at our new threshold are 0.8 and 0.0075.\n",
      "The false discovery rate would be 48.7 percent\n"
     ]
    }
   ],
   "source": [
    "path_counter = 0\n",
    "sand_counter = 0\n",
    "for i in range(len(pathogen_simulation)):\n",
    "    if pathogen_simulation[i] > desired_threshold1:\n",
    "        path_counter += 1\n",
    "for k in range(len(sandmouse_simulation)):\n",
    "    if sandmouse_simulation[k] > desired_threshold1:\n",
    "        sand_counter += 1\n",
    "sim_sens1 = path_counter/len(pathogen_simulation)\n",
    "sim_fpr1 = sand_counter/len(sandmouse_simulation)\n",
    "\n",
    "fdr_sim1 = sand_counter/(path_counter+sand_counter)\n",
    "\n",
    "print(\"The values for sensitivity and false positive rate at our new threshold are %.1f and %.4f.\"%(sim_sens1, sim_fpr1))\n",
    "print(\"The false discovery rate would be %.1f percent\"% (fdr_sim1*100))\n"
   ]
  },
  {
   "cell_type": "markdown",
   "metadata": {},
   "source": [
    "By lowering our sensitivity threshold to 80%, our FDR remains quite high. This new FDR is still not ideal, becasue the majority of reads labeled 'pathogen' would still come from sandmouse DNA. However, lowering the sensitivity threshold even more might not be a good idea, since it would lead to a significant loss of data from the (relatively rare) pathogen DNA, and the resulting decrease in FDR may not be worth it. So, if we wanted to improve our results, we should instead start thinking of other ways to improve our model. One way we could do this, for example, is developing a different Markov model. In the future, for example, I would consider developing a third-order Markov model to see if this would allow us to distinguish between sandmouse and pathogen data more effectively in the field. "
   ]
  },
  {
   "cell_type": "code",
   "execution_count": null,
   "metadata": {},
   "outputs": [],
   "source": []
  }
 ],
 "metadata": {
  "kernelspec": {
   "display_name": "Python 3",
   "language": "python",
   "name": "python3"
  },
  "language_info": {
   "codemirror_mode": {
    "name": "ipython",
    "version": 3
   },
   "file_extension": ".py",
   "mimetype": "text/x-python",
   "name": "python",
   "nbconvert_exporter": "python",
   "pygments_lexer": "ipython3",
   "version": "3.6.5"
  }
 },
 "nbformat": 4,
 "nbformat_minor": 2
}
